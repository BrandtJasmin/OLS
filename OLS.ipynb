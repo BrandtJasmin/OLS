{
 "cells": [
  {
   "cell_type": "code",
   "execution_count": 1,
   "metadata": {},
   "outputs": [],
   "source": [
    "import pandas as pd\n",
    "import numpy as np"
   ]
  },
  {
   "cell_type": "markdown",
   "metadata": {},
   "source": [
    "### get and preprocess Data"
   ]
  },
  {
   "cell_type": "code",
   "execution_count": 2,
   "metadata": {},
   "outputs": [],
   "source": [
    "# read abalone dataset\n",
    "df = pd.read_csv(\"abalone.data\", names=[\"Sex\", \"Length\", \"Diameter\", \"Height\", \"Whole weight\", \"Shucked weight\", \"Viscera weight\", \"Shell weight\", \"Rings\"])"
   ]
  },
  {
   "cell_type": "code",
   "execution_count": 3,
   "metadata": {},
   "outputs": [],
   "source": [
    "# data preprocessing:\n",
    "# nominal sex attribute to one-hot ordinal attributes\n",
    "df[\"Male\"] = [1 if x==\"M\" else 0 for x in df[\"Sex\"]]\n",
    "df[\"Female\"] = [1 if x==\"F\" else 0 for x in df[\"Sex\"]]\n",
    "df[\"Infant\"] = [1 if x==\"I\" else 0 for x in df[\"Sex\"]]\n",
    "del df[\"Sex\"]\n",
    "# get numpy array y=Age from data \n",
    "y = df[\"Rings\"] + 1.5\n",
    "y = np.array(y)\n",
    "del df[\"Rings\"]\n",
    "# store training data as numpy array\n",
    "X = np.array(df)"
   ]
  },
  {
   "cell_type": "markdown",
   "metadata": {},
   "source": [
    "### ordinary least squares functions"
   ]
  },
  {
   "cell_type": "code",
   "execution_count": 4,
   "metadata": {},
   "outputs": [],
   "source": [
    "# ordinary least squares from the lecture\n",
    "def OLS(X,y):\n",
    "    return np.matmul(np.matmul(np.linalg.inv(np.matmul(X.T,X)),X.T),y)"
   ]
  },
  {
   "cell_type": "code",
   "execution_count": 5,
   "metadata": {},
   "outputs": [],
   "source": [
    "# compute mean squared error \n",
    "def mean_squared_error(w, X, y):\n",
    "    y_hat = np.matmul(X, w)\n",
    "    return np.sum(np.power(y-y_hat,2))/len(y)"
   ]
  },
  {
   "cell_type": "markdown",
   "metadata": {},
   "source": [
    "### cross validation functions"
   ]
  },
  {
   "cell_type": "code",
   "execution_count": 6,
   "metadata": {},
   "outputs": [],
   "source": [
    "# split training and test data for cross validation\n",
    "def cv_split(X,y,k,data_part):\n",
    "    test_X = X[int(data_part*len(X)/k):int((data_part + 1)*len(X)/k)]\n",
    "    test_y = y[int(data_part*len(y)/k):int((data_part + 1)*len(y)/k)]\n",
    "    if data_part > 0 and data_part < k-1:\n",
    "        train_X = np.concatenate((X[:int(data_part*len(X)/k)],X[int((data_part + 1)*len(X)/k):]))\n",
    "        train_y = np.concatenate((y[:int(data_part*len(y)/k)],y[int((data_part + 1)*len(y)/k):]))\n",
    "    elif data_part == 0:\n",
    "        train_X = X[int((data_part + 1)*len(X)/k):]\n",
    "        train_y = y[int((data_part + 1)*len(y)/k):]\n",
    "    elif data_part == k-1:\n",
    "        train_X = X[:int(data_part*len(X)/k)]\n",
    "        train_y = y[:int(data_part*len(y)/k)]\n",
    "    return train_X, train_y, test_X, test_y"
   ]
  },
  {
   "cell_type": "code",
   "execution_count": 7,
   "metadata": {},
   "outputs": [],
   "source": [
    "# cross validation\n",
    "def cross_validation(k, X, y, train_function, loss_function):\n",
    "    assert len(X) == len(y), \"Attribute matrix and age vector must have the same size\\n\" # DEBUG\n",
    "    assert callable(train_function), \"train_function must be a function which trains the model\\n\" # DEBUG\n",
    "    assert callable(loss_function), \"loss_function must be a function which computes the loss of the model\\n\" # DEBUG\n",
    "    \n",
    "    mean_loss = 0\n",
    "    for data_part in range(k):\n",
    "        # split training and test data\n",
    "        train_X, train_y, test_X, test_y = cv_split(X, y, k, data_part) \n",
    "        # train model\n",
    "        hypothesis = train_function(train_X, train_y)\n",
    "        # test model\n",
    "        loss = loss_function(hypothesis, test_X, test_y)\n",
    "        print(\"loss for split \" + str(data_part + 1) + \" is \" + str(loss))\n",
    "        mean_loss += loss/k\n",
    "    print(\"mean loss is \" + str(mean_loss))"
   ]
  },
  {
   "cell_type": "markdown",
   "metadata": {},
   "source": [
    "### test programm with 10-fold cross validation"
   ]
  },
  {
   "cell_type": "code",
   "execution_count": 8,
   "metadata": {},
   "outputs": [
    {
     "name": "stdout",
     "output_type": "stream",
     "text": [
      "loss for split 1 is 6.624242254023692\n",
      "loss for split 2 is 11.619128634853663\n",
      "loss for split 3 is 2.941502616152837\n",
      "loss for split 4 is 2.7061406629099105\n",
      "loss for split 5 is 4.029795139704605\n",
      "loss for split 6 is 8.45006870865274\n",
      "loss for split 7 is 2.4186703082904057\n",
      "loss for split 8 is 5.1465175470661535\n",
      "loss for split 9 is 3.6215640786669105\n",
      "loss for split 10 is 4.26266147999485\n",
      "mean loss is 5.182029143031577\n"
     ]
    }
   ],
   "source": [
    "k = 10\n",
    "cross_validation(k, X, y, OLS, mean_squared_error)"
   ]
  },
  {
   "cell_type": "code",
   "execution_count": null,
   "metadata": {},
   "outputs": [],
   "source": []
  }
 ],
 "metadata": {
  "kernelspec": {
   "display_name": "Python 3",
   "language": "python",
   "name": "python3"
  },
  "language_info": {
   "codemirror_mode": {
    "name": "ipython",
    "version": 3
   },
   "file_extension": ".py",
   "mimetype": "text/x-python",
   "name": "python",
   "nbconvert_exporter": "python",
   "pygments_lexer": "ipython3",
   "version": "3.8.1"
  }
 },
 "nbformat": 4,
 "nbformat_minor": 1
}
